{
 "cells": [
  {
   "cell_type": "markdown",
   "metadata": {},
   "source": [
    "# Description\n",
    "Dump Collection of Indonesian administrative region from BPS (Badan Pusat Statistik). There's around 82k+ rows of data"
   ]
  },
  {
   "cell_type": "code",
   "execution_count": 53,
   "metadata": {},
   "outputs": [],
   "source": [
    "import pandas as pd\n",
    "import requests  as re\n",
    "import csv"
   ]
  },
  {
   "cell_type": "code",
   "execution_count": 54,
   "metadata": {},
   "outputs": [],
   "source": [
    "def get_bps_data(level: str = 'provinsi', parent: str = '0'):\n",
    "  BASE_URL = 'https://sig.bps.go.id/rest-bridging/getwilayah'\n",
    "  PARAMS = { \n",
    "    'level': level,\n",
    "    'parent': parent\n",
    "  }\n",
    "  req = re.get(url = BASE_URL, params=PARAMS)\n",
    "  data = req.json()\n",
    "  return data"
   ]
  },
  {
   "cell_type": "code",
   "execution_count": 55,
   "metadata": {},
   "outputs": [],
   "source": [
    "OUTPATH_PROVINCE = 'output/separate/provinsi.csv'\n",
    "OUTPATH_DISTRICT = 'output/separate/district.csv'\n",
    "OUTPATH_SUBDISTRICT = 'output/separate/subdistrict.csv'\n",
    "OUTPATH_VILLAGE = 'output/separate/village.csv'\n",
    "\n",
    "def get_bps_province():\n",
    "  with open(OUTPATH_PROVINCE, mode='w', newline='') as file:\n",
    "    writer = csv.writer(file)\n",
    "    writer.writerow(['id', 'name'])\n",
    "\n",
    "    data_province = get_bps_data()\n",
    "    for province in data_province:\n",
    "      writer.writerow([province['kode_bps'], province['nama_bps']])\n",
    "\n",
    "def get_bps_district():\n",
    "  with open(OUTPATH_DISTRICT, mode='w', newline='') as file:\n",
    "    writer = csv.writer(file)\n",
    "    writer.writerow(['id', 'parent_id', 'name'])\n",
    "    \n",
    "    data_province = pd.read_csv(OUTPATH_PROVINCE)\n",
    "    for index, row in data_province.iterrows():\n",
    "      province_id = row['id']\n",
    "      data_district = get_bps_data(level='kabupaten', parent= int(province_id))\n",
    "      for district in data_district:\n",
    "        writer.writerow([district['kode_bps'], province_id, district['nama_bps']])\n",
    "\n",
    "def get_bps_subdistrict():\n",
    "  with open(OUTPATH_SUBDISTRICT, mode='w', newline='') as file:\n",
    "    writer = csv.writer(file)\n",
    "    writer.writerow(['id', 'parent_id', 'name'])\n",
    "    \n",
    "    data_district = pd.read_csv(OUTPATH_DISTRICT)\n",
    "    for index, row in data_district.iterrows():\n",
    "      district_id = row['id']\n",
    "      data_subdistrict = get_bps_data(level='kecamatan', parent= int(district_id))\n",
    "      for subdistrict in data_subdistrict:\n",
    "        writer.writerow([subdistrict['kode_bps'], district_id, subdistrict['nama_bps']])\n",
    "\n",
    "def get_bps_villages():\n",
    "  with open(OUTPATH_VILLAGE, mode='w', newline='') as file:\n",
    "    writer = csv.writer(file)\n",
    "    writer.writerow(['id', 'parent_id', 'kode_dagri', 'name'])\n",
    "\n",
    "    data_subdistrict = pd.read_csv(OUTPATH_SUBDISTRICT)\n",
    "    for index, row in data_subdistrict.iterrows():\n",
    "      subdistrict_id = row['id']\n",
    "      data_village = get_bps_data(level='desa', parent= int(subdistrict_id))\n",
    "      for village in data_village:\n",
    "        writer.writerow([village['kode_bps'], subdistrict_id, village['kode_dagri'], village['nama_bps']])"
   ]
  },
  {
   "cell_type": "code",
   "execution_count": 56,
   "metadata": {},
   "outputs": [],
   "source": [
    "# get_bps_province()\n",
    "\n",
    "# get_bps_district()\n",
    "# 1 min 5 sec\n",
    "\n",
    "#get_bps_subdistrict() \n",
    "# 3 min 46 sec\n",
    "\n",
    "# get_bps_villages()\n",
    "# WARNING: estimated 90 min 5sec to request data"
   ]
  }
 ],
 "metadata": {
  "kernelspec": {
   "display_name": "Python 3",
   "language": "python",
   "name": "python3"
  },
  "language_info": {
   "codemirror_mode": {
    "name": "ipython",
    "version": 3
   },
   "file_extension": ".py",
   "mimetype": "text/x-python",
   "name": "python",
   "nbconvert_exporter": "python",
   "pygments_lexer": "ipython3",
   "version": "3.12.1"
  }
 },
 "nbformat": 4,
 "nbformat_minor": 2
}
