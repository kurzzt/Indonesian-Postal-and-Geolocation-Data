{
 "cells": [
  {
   "cell_type": "markdown",
   "metadata": {},
   "source": [
    "# Description\n",
    "Dump Collection of Indonesian administrative region from BPS (Badan Pusat Statistik). There's around 82k+ rows of data"
   ]
  },
  {
   "cell_type": "code",
   "execution_count": 21,
   "metadata": {},
   "outputs": [],
   "source": [
    "import pandas as pd\n",
    "import requests  as re\n",
    "import csv"
   ]
  },
  {
   "cell_type": "code",
   "execution_count": 22,
   "metadata": {},
   "outputs": [],
   "source": [
    "def get_bps_data(level: str = 'provinsi', parent: str = '0'):\n",
    "  BASE_URL = 'https://sig.bps.go.id/rest-bridging/getwilayah'\n",
    "  PARAMS = { \n",
    "    'level': level,\n",
    "    'parent': parent\n",
    "  }\n",
    "  req = re.get(url = BASE_URL, params=PARAMS)\n",
    "  data = req.json()\n",
    "  return data"
   ]
  },
  {
   "cell_type": "code",
   "execution_count": 23,
   "metadata": {},
   "outputs": [],
   "source": [
    "OUTPATH_PROVINCE = 'output/separate/provinsi.csv'\n",
    "OUTPATH_DISTRICT = 'output/separate/district.csv'\n",
    "OUTPATH_REGENCY = 'output/separate/regency.csv'\n",
    "OUTPATH_VILLAGE = 'output/separate/village.csv'\n",
    "\n",
    "def get_bps_province():\n",
    "  with open(OUTPATH_PROVINCE, mode='w', newline='') as file:\n",
    "    writer = csv.writer(file)\n",
    "    writer.writerow(['kode_bps', 'nama_bps', 'kode_dagri', 'nama_dagri'])\n",
    "\n",
    "    data_province = get_bps_data()\n",
    "    for province in data_province:\n",
    "      writer.writerow([province['kode_bps'],province['nama_bps'],province['kode_dagri'], province['nama_dagri']])\n",
    "\n",
    "def get_bps_district():\n",
    "  with open(OUTPATH_DISTRICT, mode='w', newline='') as file:\n",
    "    writer = csv.writer(file)\n",
    "    writer.writerow(['parent_id', 'kode_bps', 'nama_bps', 'kode_dagri', 'nama_dagri'])\n",
    "    \n",
    "    data_province = pd.read_csv(OUTPATH_PROVINCE)\n",
    "    for index, row in data_province.iterrows():\n",
    "      province_id = row['kode_bps']\n",
    "      data_district = get_bps_data(level='kabupaten', parent= int(province_id))\n",
    "      for district in data_district:\n",
    "        writer.writerow([province_id, district['kode_bps'], district['nama_bps'], district['kode_dagri'], district['nama_dagri']])\n",
    "\n",
    "def get_bps_regency():\n",
    "  with open(OUTPATH_REGENCY, mode='w', newline='') as file:\n",
    "    writer = csv.writer(file)\n",
    "    writer.writerow(['parent_id', 'kode_bps', 'nama_bps', 'kode_dagri', 'nama_dagri'])\n",
    "    \n",
    "    data_district = pd.read_csv(OUTPATH_DISTRICT)\n",
    "    for index, row in data_district.iterrows():\n",
    "      district_id = row['kode_bps']\n",
    "      data_regency = get_bps_data(level='kecamatan', parent= int(district_id))\n",
    "      for regency in data_regency:\n",
    "        writer.writerow([district_id, regency['kode_bps'], regency['nama_bps'], regency['kode_dagri'], regency['nama_dagri']])\n",
    "\n",
    "def get_bps_villages():\n",
    "  with open(OUTPATH_VILLAGE, mode='a', newline='') as file:\n",
    "    writer = csv.writer(file)\n",
    "    # writer.writerow(['parent_id', 'kode_bps', 'nama_bps', 'kode_dagri', 'nama_dagri'])\n",
    "\n",
    "    data_regency = pd.read_csv(OUTPATH_REGENCY)\n",
    "    for index, row in data_regency.iterrows():\n",
    "      regency_id = row['kode_bps']\n",
    "      if(regency_id >= 8107030):\n",
    "        data_village = get_bps_data(level='desa', parent= int(regency_id))\n",
    "        for village in data_village:\n",
    "          writer.writerow([regency_id, village['kode_bps'],village['nama_bps'],village['kode_dagri'], village['nama_dagri']])"
   ]
  },
  {
   "cell_type": "code",
   "execution_count": 24,
   "metadata": {},
   "outputs": [],
   "source": [
    "# get_bps_province()\n",
    "\n",
    "# get_bps_district()\n",
    "# 1 min 5 sec\n",
    "\n",
    "# get_bps_regency() \n",
    "# 3 min 46 sec\n",
    "\n",
    "get_bps_villages()\n",
    "# WARNING: estimated 90 min 5sec to request data"
   ]
  }
 ],
 "metadata": {
  "kernelspec": {
   "display_name": "Python 3",
   "language": "python",
   "name": "python3"
  },
  "language_info": {
   "codemirror_mode": {
    "name": "ipython",
    "version": 3
   },
   "file_extension": ".py",
   "mimetype": "text/x-python",
   "name": "python",
   "nbconvert_exporter": "python",
   "pygments_lexer": "ipython3",
   "version": "3.12.1"
  }
 },
 "nbformat": 4,
 "nbformat_minor": 2
}
