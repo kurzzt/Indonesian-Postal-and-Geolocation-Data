{
 "cells": [
  {
   "cell_type": "code",
   "execution_count": 1,
   "metadata": {},
   "outputs": [],
   "source": [
    "import pandas as pd"
   ]
  },
  {
   "cell_type": "markdown",
   "metadata": {},
   "source": [
    "**Merging CSV from Coll to Merged CSV from ArrayAccess and BPS-based-original data**"
   ]
  },
  {
   "cell_type": "code",
   "execution_count": 2,
   "metadata": {},
   "outputs": [],
   "source": [
    "base_regency = pd.read_csv('output/base-aa/merge-regency.csv')\n",
    "base_village = pd.read_csv('output/base-aa/merge-village.csv')\n",
    "\n",
    "geocode_regency = pd.read_csv('data/coll/kecamatan_lat_long.csv')\n",
    "geocode_village = pd.read_csv('data/coll/kelurahan_lat_long.csv')"
   ]
  },
  {
   "cell_type": "code",
   "execution_count": 3,
   "metadata": {},
   "outputs": [],
   "source": [
    "OUTPATH_REGENCY = 'output/base-coll/merge-regency.csv'\n",
    "OUTPATH_VILLAGE = 'output/base-coll/merge-village.csv'\n",
    "\n",
    "def regency_with_geocode():\n",
    "  merged_df = pd.merge(base_regency, geocode_regency, how='left', left_on='id', right_on='ids')\n",
    "\n",
    "  merged_df['Latitude'] = merged_df['Latitude'].fillna(merged_df['lat'])\n",
    "  merged_df['Longitude'] = merged_df['Longitude'].fillna(merged_df['long'])\n",
    "  merged_df.drop(['id_y', 'ids', 'foreign', 'name_y', 'lat', 'long'], axis=1, inplace=True)\n",
    "  merged_df = merged_df.rename(columns = {\"id_x\": \"id\", \"name_x\": \"name\"})\n",
    "  merged_df.to_csv(OUTPATH_REGENCY, index=False)\n",
    "\n",
    "def village_with_geocode():\n",
    "  merged_df = pd.merge(base_village, geocode_village, how='left', left_on='id', right_on='id')\n",
    "\n",
    "  merged_df['Latitude'] = merged_df['Latitude'].fillna(merged_df['lat'])\n",
    "  merged_df['Longitude'] = merged_df['Longitude'].fillna(merged_df['long'])\n",
    "  merged_df.drop(['name_y', 'Unnamed: 0', 'foreign', 'name_y', 'lat', 'long'], axis=1, inplace=True)\n",
    "  merged_df = merged_df.rename(columns = {\"name_x\": \"name\"})\n",
    "  merged_df.to_csv(OUTPATH_VILLAGE, index=False)\n",
    "\n"
   ]
  },
  {
   "cell_type": "code",
   "execution_count": 4,
   "metadata": {},
   "outputs": [],
   "source": [
    "# regency_with_geocode()\n",
    "# village_with_geocode()"
   ]
  },
  {
   "cell_type": "markdown",
   "metadata": {},
   "source": [
    "**Checking Data on Merged CSV**"
   ]
  },
  {
   "cell_type": "code",
   "execution_count": 5,
   "metadata": {},
   "outputs": [
    {
     "data": {
      "text/plain": [
       "id            0\n",
       "parent_id     0\n",
       "name          0\n",
       "Latitude     62\n",
       "Longitude    62\n",
       "dtype: int64"
      ]
     },
     "execution_count": 5,
     "metadata": {},
     "output_type": "execute_result"
    }
   ],
   "source": [
    "df_merge_regency_v1 = pd.read_csv(OUTPATH_REGENCY)\n",
    "# df_merge_regency_v1.head()\n",
    "df_merge_regency_v1.isnull().sum()"
   ]
  },
  {
   "cell_type": "code",
   "execution_count": 6,
   "metadata": {},
   "outputs": [
    {
     "data": {
      "text/plain": [
       "id                0\n",
       "parent_id         0\n",
       "kode_dagri        0\n",
       "name              0\n",
       "Latitude      24503\n",
       "Longitude     24503\n",
       "dtype: int64"
      ]
     },
     "execution_count": 6,
     "metadata": {},
     "output_type": "execute_result"
    }
   ],
   "source": [
    "df_merge_village_v1 = pd.read_csv(OUTPATH_VILLAGE)\n",
    "# df_province.head()\n",
    "df_merge_village_v1.isnull().sum()"
   ]
  },
  {
   "cell_type": "markdown",
   "metadata": {},
   "source": [
    "**Filling the missing value**\n",
    "\n",
    "For the regency, collect the lat and long value of the same district and count the mean. The mean value will be used to fill missing value.\n",
    "For the village, collect the lat and long value of the same regency and count the mean. The mean value will be used to fill missing value."
   ]
  },
  {
   "cell_type": "code",
   "execution_count": 7,
   "metadata": {},
   "outputs": [],
   "source": [
    "from pandas import DataFrame\n",
    "\n",
    "OUTPATH_REGENCY_v2 = 'output/base-coll/merge-regency-v2.csv'\n",
    "OUTPATH_VILLAGE_v2 = 'output/base-coll/merge-village-v2.csv'\n",
    "\n",
    "def fillMissingValue(df: DataFrame, outpath: str):\n",
    "    mean_values = df.groupby('parent_id')[['Latitude', 'Longitude']].mean()\n",
    "    # Mendapatkan daftar parent_id yang memiliki nilai null\n",
    "    null_parent_ids = df[df['Latitude'].isnull()]['parent_id'].unique()\n",
    "\n",
    "    # Mengisi nilai null pada 'Latitude' dan 'Longitude' dengan nilai rata-rata yang dihitung, hanya untuk baris dengan parent_id yang sesuai\n",
    "    for parent_id in null_parent_ids:\n",
    "        mean_lat = mean_values.loc[parent_id, 'Latitude']\n",
    "        mean_long = mean_values.loc[parent_id, 'Longitude']\n",
    "        mask = (df['parent_id'] == parent_id) & df['Latitude'].isnull()\n",
    "        df.loc[mask, 'Latitude'] = mean_lat\n",
    "        df.loc[mask, 'Longitude'] = mean_long\n",
    "    # Simpan hasil ke file CSV\n",
    "    df.to_csv(outpath, index=False)"
   ]
  },
  {
   "cell_type": "code",
   "execution_count": 8,
   "metadata": {},
   "outputs": [],
   "source": [
    "# fillMissingValue(df_merge_regency_v1, OUTPATH_REGENCY_v2)\n",
    "# fillMissingValue(df_merge_village_v1, OUTPATH_VILLAGE_v2)"
   ]
  },
  {
   "cell_type": "code",
   "execution_count": 9,
   "metadata": {},
   "outputs": [
    {
     "data": {
      "text/plain": [
       "id           0\n",
       "parent_id    0\n",
       "name         0\n",
       "Latitude     0\n",
       "Longitude    0\n",
       "dtype: int64"
      ]
     },
     "execution_count": 9,
     "metadata": {},
     "output_type": "execute_result"
    }
   ],
   "source": [
    "df_merge_regency_v2 = pd.read_csv(OUTPATH_REGENCY_v2)\n",
    "# df_merge_regency_v2.head()\n",
    "df_merge_regency_v2.isnull().sum()"
   ]
  },
  {
   "cell_type": "code",
   "execution_count": 10,
   "metadata": {},
   "outputs": [
    {
     "data": {
      "text/plain": [
       "id               0\n",
       "parent_id        0\n",
       "kode_dagri       0\n",
       "name             0\n",
       "Latitude      6210\n",
       "Longitude     6210\n",
       "dtype: int64"
      ]
     },
     "execution_count": 10,
     "metadata": {},
     "output_type": "execute_result"
    }
   ],
   "source": [
    "df_merge_village_v2 = pd.read_csv(OUTPATH_VILLAGE_v2)\n",
    "# df_merge_village_v2.head()\n",
    "df_merge_village_v2.isnull().sum()"
   ]
  },
  {
   "cell_type": "markdown",
   "metadata": {},
   "source": [
    "village still have missing value. Take the lat long value from the regency and give it to the villages"
   ]
  },
  {
   "cell_type": "code",
   "execution_count": 11,
   "metadata": {},
   "outputs": [],
   "source": [
    "PATH_BASE_VALUE = OUTPATH_REGENCY_v2\n",
    "OUTPATH_VILLAGE_v3 = 'output/base-coll/merge-village-v3.csv'\n",
    "df1 = df_merge_village_v2\n",
    "df2 = pd.read_csv(PATH_BASE_VALUE)\n",
    "\n",
    "parent_lat_long_map = df2.set_index('id')[['Latitude', 'Longitude']].to_dict(orient='index')\n",
    "\n",
    "for index, row in df1.iterrows():\n",
    "    if pd.isnull(row['Latitude']) or pd.isnull(row['Longitude']):\n",
    "        parent_id = row['parent_id']\n",
    "        if parent_id in parent_lat_long_map:\n",
    "            lat_long = parent_lat_long_map[parent_id]\n",
    "            df1.at[index, 'Latitude'] = lat_long['Latitude']\n",
    "            df1.at[index, 'Longitude'] = lat_long['Longitude']\n",
    "\n",
    "df1.to_csv(OUTPATH_VILLAGE_v3, index=False)"
   ]
  },
  {
   "cell_type": "code",
   "execution_count": 12,
   "metadata": {},
   "outputs": [
    {
     "data": {
      "text/plain": [
       "id            0\n",
       "parent_id     0\n",
       "kode_dagri    0\n",
       "name          0\n",
       "Latitude      0\n",
       "Longitude     0\n",
       "dtype: int64"
      ]
     },
     "execution_count": 12,
     "metadata": {},
     "output_type": "execute_result"
    }
   ],
   "source": [
    "df_merge_village_v3 = pd.read_csv(OUTPATH_VILLAGE_v3)\n",
    "# df_merge_village_v3.head()\n",
    "df_merge_village_v3.isnull().sum()"
   ]
  }
 ],
 "metadata": {
  "kernelspec": {
   "display_name": "Python 3",
   "language": "python",
   "name": "python3"
  },
  "language_info": {
   "codemirror_mode": {
    "name": "ipython",
    "version": 3
   },
   "file_extension": ".py",
   "mimetype": "text/x-python",
   "name": "python",
   "nbconvert_exporter": "python",
   "pygments_lexer": "ipython3",
   "version": "3.12.1"
  }
 },
 "nbformat": 4,
 "nbformat_minor": 2
}
