{
 "cells": [
  {
   "cell_type": "code",
   "execution_count": 21,
   "metadata": {},
   "outputs": [],
   "source": [
    "import pandas as pd"
   ]
  },
  {
   "cell_type": "code",
   "execution_count": 22,
   "metadata": {},
   "outputs": [],
   "source": [
    "# Load dataframes\n",
    "base_province = pd.read_csv('output/separate/provinsi.csv')\n",
    "base_district = pd.read_csv('output/separate/district.csv')\n",
    "base_regency = pd.read_csv('output/separate/regency.csv')\n",
    "base_village = pd.read_csv('output/separate/village.csv')\n",
    "\n",
    "geocode_province = pd.read_csv('data/array-access/provinces.csv')\n",
    "geocode_district = pd.read_csv('data/array-access/cities.csv')\n",
    "geocode_regency = pd.read_csv('data/array-access/subDistricts.csv')\n",
    "geocode_village = pd.read_csv('data/array-access/villages.csv')"
   ]
  },
  {
   "cell_type": "code",
   "execution_count": 23,
   "metadata": {},
   "outputs": [],
   "source": [
    "OUTPATH_PROVINCE = 'output/base-aa/merge-province.csv'\n",
    "OUTPATH_DISTRICT = 'output/base-aa/merge-district.csv'\n",
    "OUTPATH_REGENCY = 'output/base-aa/merge-regency.csv'\n",
    "OUTPATH_VILLAGE = 'output/base-aa/merge-village.csv'\n",
    "\n",
    "def province_with_geocode():\n",
    "  merged_csv = pd.merge(base_province, geocode_province, how='left', left_on='id', right_on='Code')\n",
    "  merged_csv.drop(['Code', 'Parent', 'Postal', 'Name'], axis=1, inplace=True)\n",
    "\n",
    "  merged_csv.to_csv(OUTPATH_PROVINCE, index=False)\n",
    "\n",
    "def district_with_geocode():\n",
    "  merged_csv = pd.merge(base_district, geocode_district, how='left', left_on='id', right_on='Code')\n",
    "  merged_csv.drop(['Code', 'Parent', 'Name', 'Postal'], axis=1, inplace=True)\n",
    "  # merged_csv.head()\n",
    "  merged_csv.to_csv(OUTPATH_DISTRICT, index=False)\n",
    "\n",
    "def regency_with_geocode():\n",
    "  merged_csv = pd.merge(base_regency, geocode_regency, how='left', left_on='id', right_on='Code')\n",
    "  merged_csv.drop(['Code', 'Parent', 'Name', 'Postal'], axis=1, inplace=True)\n",
    "  # merged_csv.head()\n",
    "  merged_csv.to_csv(OUTPATH_REGENCY, index=False)\n",
    "\n",
    "def village_with_geocode():\n",
    "  base_village['id'] = base_village['id'].astype(str)\n",
    "  base_village['id'] = base_village['id'].str.rstrip('.0')\n",
    "  geocode_village['Code'] = geocode_village['Code'].astype(str)\n",
    "  geocode_village['Code'] = geocode_village['Code'].str.rstrip('.0')\n",
    "  \n",
    "  merged_csv = pd.merge(base_village, geocode_village, how='left', left_on='id', right_on='Code')\n",
    "  merged_csv.drop(['Code', 'Parent', 'Name','Postal'], axis=1, inplace=True)\n",
    "  \n",
    "  merged_csv.to_csv(OUTPATH_VILLAGE, index=False)"
   ]
  },
  {
   "cell_type": "code",
   "execution_count": 24,
   "metadata": {},
   "outputs": [],
   "source": [
    "# province_with_geocode()\n",
    "# district_with_geocode()\n",
    "# regency_with_geocode()\n",
    "# village_with_geocode()"
   ]
  },
  {
   "cell_type": "markdown",
   "metadata": {},
   "source": [
    "# Checking Data on Merged CSV"
   ]
  },
  {
   "cell_type": "code",
   "execution_count": 25,
   "metadata": {},
   "outputs": [
    {
     "data": {
      "text/plain": [
       "id           0\n",
       "name         0\n",
       "Latitude     0\n",
       "Longitude    0\n",
       "dtype: int64"
      ]
     },
     "execution_count": 25,
     "metadata": {},
     "output_type": "execute_result"
    }
   ],
   "source": [
    "df_province = pd.read_csv(OUTPATH_PROVINCE)\n",
    "# df_province.head()\n",
    "df_province.isnull().sum()"
   ]
  },
  {
   "cell_type": "code",
   "execution_count": 26,
   "metadata": {},
   "outputs": [
    {
     "data": {
      "text/plain": [
       "id           0\n",
       "parent_id    0\n",
       "name         0\n",
       "Latitude     0\n",
       "Longitude    0\n",
       "dtype: int64"
      ]
     },
     "execution_count": 26,
     "metadata": {},
     "output_type": "execute_result"
    }
   ],
   "source": [
    "df_district = pd.read_csv(OUTPATH_DISTRICT)\n",
    "# df_district.head()\n",
    "df_district.isnull().sum()"
   ]
  },
  {
   "cell_type": "code",
   "execution_count": 27,
   "metadata": {},
   "outputs": [
    {
     "data": {
      "text/plain": [
       "id             0\n",
       "parent_id      0\n",
       "name           0\n",
       "Latitude     224\n",
       "Longitude    224\n",
       "dtype: int64"
      ]
     },
     "execution_count": 27,
     "metadata": {},
     "output_type": "execute_result"
    }
   ],
   "source": [
    "df_regency = pd.read_csv(OUTPATH_REGENCY)\n",
    "# df_regency.head()\n",
    "df_regency.isnull().sum()\n"
   ]
  },
  {
   "cell_type": "code",
   "execution_count": 28,
   "metadata": {},
   "outputs": [
    {
     "data": {
      "text/plain": [
       "id                0\n",
       "parent_id         0\n",
       "kode_dagri        0\n",
       "name              0\n",
       "Latitude      82218\n",
       "Longitude     82218\n",
       "dtype: int64"
      ]
     },
     "execution_count": 28,
     "metadata": {},
     "output_type": "execute_result"
    }
   ],
   "source": [
    "df_villages = pd.read_csv(OUTPATH_VILLAGE)\n",
    "# df_villages.head()\n",
    "df_villages.isnull().sum()"
   ]
  }
 ],
 "metadata": {
  "kernelspec": {
   "display_name": "Python 3",
   "language": "python",
   "name": "python3"
  },
  "language_info": {
   "codemirror_mode": {
    "name": "ipython",
    "version": 3
   },
   "file_extension": ".py",
   "mimetype": "text/x-python",
   "name": "python",
   "nbconvert_exporter": "python",
   "pygments_lexer": "ipython3",
   "version": "3.12.1"
  }
 },
 "nbformat": 4,
 "nbformat_minor": 2
}
