{
 "cells": [
  {
   "cell_type": "code",
   "execution_count": 169,
   "metadata": {},
   "outputs": [],
   "source": [
    "import pandas as pd\n",
    "import numpy as np"
   ]
  },
  {
   "cell_type": "code",
   "execution_count": 170,
   "metadata": {},
   "outputs": [],
   "source": [
    "# Load dataframes\n",
    "df1 = pd.read_csv('output/separate/village.csv')\n",
    "df2 = pd.read_csv('data/kodeposku-basic.csv', sep=';')"
   ]
  },
  {
   "cell_type": "code",
   "execution_count": 171,
   "metadata": {},
   "outputs": [],
   "source": [
    "OUTPATH_ALL = 'output/postal-code/merge-all.csv'\n",
    "OUTPATH_PARTIAL = 'output/postal-code/merge-postal.csv'\n",
    "\n",
    "df2['kode_pos'] = df2['kode_pos'].astype(str)\n",
    "merged_df = pd.merge(df1, df2, left_on='kode_dagri', right_on='kode_kemendagri', how='left')\n",
    "\n",
    "merged_df['kecamatan'] = merged_df['kecamatan'].str.upper()\n",
    "merged_df['kota'] = merged_df['kota'].str.upper()\n",
    "merged_df['provinsi'] = merged_df['provinsi'].str.upper()\n",
    "merged_df.drop(['kode_dagri', 'kode_kemendagri','kelurahan'], axis=1, inplace=True)\n",
    "merged_df = merged_df.rename(columns = {\"name\": \"kelurahan\"})\n",
    "\n",
    "# drop 12 rows before convert to csv\n",
    "merged_df.dropna(subset=['kode_pos'], inplace=True)\n",
    "merged_df.to_csv(OUTPATH_ALL, index=False)\n",
    "\n",
    "merged_df.drop(['kecamatan', 'kota', 'provinsi'], axis=1, inplace=True)\n",
    "merged_df = merged_df.rename(columns = {\"kelurahan\": \"name\"})\n",
    "merged_df.to_csv(OUTPATH_PARTIAL, index=False)"
   ]
  },
  {
   "cell_type": "markdown",
   "metadata": {},
   "source": [
    "Checking Data on Merged CSV"
   ]
  },
  {
   "cell_type": "code",
   "execution_count": 172,
   "metadata": {},
   "outputs": [
    {
     "data": {
      "text/plain": [
       "id           0\n",
       "parent_id    0\n",
       "kelurahan    0\n",
       "kode_pos     0\n",
       "kecamatan    0\n",
       "kota         0\n",
       "provinsi     0\n",
       "dtype: int64"
      ]
     },
     "execution_count": 172,
     "metadata": {},
     "output_type": "execute_result"
    }
   ],
   "source": [
    "df_merge_all = pd.read_csv(OUTPATH_ALL)\n",
    "# df_merge_all.head()\n",
    "df_merge_all.isnull().sum()"
   ]
  },
  {
   "cell_type": "code",
   "execution_count": 173,
   "metadata": {},
   "outputs": [
    {
     "data": {
      "text/plain": [
       "id           0\n",
       "parent_id    0\n",
       "name         0\n",
       "kode_pos     0\n",
       "dtype: int64"
      ]
     },
     "execution_count": 173,
     "metadata": {},
     "output_type": "execute_result"
    }
   ],
   "source": [
    "df_merge_partial = pd.read_csv(OUTPATH_PARTIAL)\n",
    "# df_merge_partial.head()\n",
    "df_merge_partial.isnull().sum()"
   ]
  }
 ],
 "metadata": {
  "kernelspec": {
   "display_name": "Python 3",
   "language": "python",
   "name": "python3"
  },
  "language_info": {
   "codemirror_mode": {
    "name": "ipython",
    "version": 3
   },
   "file_extension": ".py",
   "mimetype": "text/x-python",
   "name": "python",
   "nbconvert_exporter": "python",
   "pygments_lexer": "ipython3",
   "version": "3.12.1"
  }
 },
 "nbformat": 4,
 "nbformat_minor": 2
}
