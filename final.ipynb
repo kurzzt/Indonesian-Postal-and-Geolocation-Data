{
 "cells": [
  {
   "cell_type": "code",
   "execution_count": 10,
   "metadata": {},
   "outputs": [],
   "source": [
    "import shutil\n",
    "import os\n",
    "\n",
    "\n",
    "def moveIt(source_file: str, dest_folder: str, dest_filename: str = None):\n",
    "  filename = dest_filename if dest_filename else os.path.basename(source_file)\n",
    "  shutil.copyfile(source_file,  dest_folder + filename)"
   ]
  },
  {
   "cell_type": "code",
   "execution_count": 11,
   "metadata": {},
   "outputs": [],
   "source": [
    "moveIt('output/base-aa/merge-province.csv', 'output/final/')\n",
    "moveIt('output/base-aa/merge-district.csv', 'output/final/')\n",
    "moveIt('output/base-coll/merge-subdistrict-v2.csv', 'output/final/', 'merge-subdistrict.csv')\n",
    "moveIt('output/base-coll/merge-village-v3.csv', 'output/final/', 'merge-village.csv')"
   ]
  }
 ],
 "metadata": {
  "kernelspec": {
   "display_name": "Python 3",
   "language": "python",
   "name": "python3"
  },
  "language_info": {
   "codemirror_mode": {
    "name": "ipython",
    "version": 3
   },
   "file_extension": ".py",
   "mimetype": "text/x-python",
   "name": "python",
   "nbconvert_exporter": "python",
   "pygments_lexer": "ipython3",
   "version": "3.12.1"
  }
 },
 "nbformat": 4,
 "nbformat_minor": 2
}
